{
 "cells": [
  {
   "cell_type": "code",
   "execution_count": 1,
   "metadata": {},
   "outputs": [
    {
     "name": "stdout",
     "output_type": "stream",
     "text": [
      "hai\n"
     ]
    }
   ],
   "source": [
    "print(\"hai\")"
   ]
  },
  {
   "cell_type": "code",
   "execution_count": 2,
   "metadata": {},
   "outputs": [],
   "source": [
    "# Tipe Data yang dimengerti Python\n",
    "\n",
    "# tipe data primitif:\n",
    "# - integer angka bulat 1 2 3 100 5000 1739\n",
    "# - float angka dengan desimal 1.0 5.5 12.7589 1234.5678\n",
    "# - string semua text yang di kutip, bisa kutip '' atau kutip \"\"\n",
    "#     termasuk alfabet, angka 0123456789, simbol !@#$^, \n",
    "#     kalau dikutip jadi string\n",
    "# - boolean tipe data True atau False\n",
    "\n",
    "# tipe data terstruktur:\n",
    "# - list []\n",
    "#     kumpulan banyak data lain di satu tempat\n",
    "#     setiap item dalam sebuah list punya angka index \n",
    "#     bisa ubah isi list, tambah item, kurang item, edit item \n",
    "# - tuple ()\n",
    "#     kumpulan banyak data lain di satu tempat\n",
    "#     setiap item dalam sebuah list punya angka index\n",
    "#     tidak bisa ubah isi tuple, tambah item, kurang item, edit item\n",
    "# - dictionary {}\n",
    "#     kumpulan banyak data lain di satu tempat\n",
    "#     setiap item dalam sebuah list punya string key\n",
    "#     bisa ubah isi dictionary, tambah item, kurang item, edit item "
   ]
  },
  {
   "cell_type": "code",
   "execution_count": 3,
   "metadata": {},
   "outputs": [
    {
     "data": {
      "text/plain": [
       "8"
      ]
     },
     "execution_count": 3,
     "metadata": {},
     "output_type": "execute_result"
    }
   ],
   "source": [
    "# Integer\n",
    "8"
   ]
  },
  {
   "cell_type": "code",
   "execution_count": 4,
   "metadata": {},
   "outputs": [
    {
     "data": {
      "text/plain": [
       "int"
      ]
     },
     "execution_count": 4,
     "metadata": {},
     "output_type": "execute_result"
    }
   ],
   "source": [
    "# cara cek tipe data kita gunakan type()\n",
    "type(8)"
   ]
  },
  {
   "cell_type": "code",
   "execution_count": 5,
   "metadata": {},
   "outputs": [
    {
     "name": "stdout",
     "output_type": "stream",
     "text": [
      "<class 'int'>\n"
     ]
    }
   ],
   "source": [
    "# cara memperlihatkan hasil code nya jalan\n",
    "# cara membuat output\n",
    "# kita gunakan print()\n",
    "\n",
    "print(type(8))"
   ]
  },
  {
   "cell_type": "code",
   "execution_count": 6,
   "metadata": {},
   "outputs": [
    {
     "name": "stdout",
     "output_type": "stream",
     "text": [
      "<class 'float'>\n"
     ]
    }
   ],
   "source": [
    "# float\n",
    "print(type(12.5))"
   ]
  },
  {
   "cell_type": "code",
   "execution_count": 7,
   "metadata": {},
   "outputs": [
    {
     "name": "stdout",
     "output_type": "stream",
     "text": [
      "<class 'str'>\n"
     ]
    }
   ],
   "source": [
    "# string\n",
    "print(type(\"kev\"))"
   ]
  },
  {
   "cell_type": "code",
   "execution_count": 8,
   "metadata": {},
   "outputs": [
    {
     "name": "stdout",
     "output_type": "stream",
     "text": [
      "<class 'bool'>\n",
      "<class 'bool'>\n"
     ]
    }
   ],
   "source": [
    "# boolean\n",
    "print(type(True))\n",
    "print(type(False))"
   ]
  },
  {
   "cell_type": "code",
   "execution_count": 12,
   "metadata": {},
   "outputs": [
    {
     "name": "stdout",
     "output_type": "stream",
     "text": [
      "<class 'int'>\n",
      "<class 'str'>\n"
     ]
    }
   ],
   "source": [
    "# kita bisa tukar tukar tipe data\n",
    "\n",
    "# int ke str\n",
    "print(type(100))\n",
    "print(type(str(100)))"
   ]
  },
  {
   "cell_type": "code",
   "execution_count": 13,
   "metadata": {},
   "outputs": [
    {
     "name": "stdout",
     "output_type": "stream",
     "text": [
      "<class 'str'>\n",
      "<class 'int'>\n"
     ]
    }
   ],
   "source": [
    "# str ke int\n",
    "print(type(\"90\"))\n",
    "print(type(int(\"90\")))"
   ]
  },
  {
   "cell_type": "code",
   "execution_count": 20,
   "metadata": {},
   "outputs": [],
   "source": [
    "# str yang tidak bisa di convert ke angka akan error kalau kita paksa\n",
    "# convert jadi angka. misalkan \"Andi\" di convert ke int atau float, error."
   ]
  },
  {
   "cell_type": "code",
   "execution_count": 14,
   "metadata": {},
   "outputs": [],
   "source": [
    "# int ke float\n",
    "# float ke int"
   ]
  },
  {
   "cell_type": "code",
   "execution_count": 15,
   "metadata": {},
   "outputs": [],
   "source": [
    "# str ke float\n",
    "# float ke str"
   ]
  },
  {
   "cell_type": "code",
   "execution_count": 19,
   "metadata": {},
   "outputs": [
    {
     "name": "stdout",
     "output_type": "stream",
     "text": [
      "1\n",
      "0\n",
      "False\n",
      "True\n"
     ]
    }
   ],
   "source": [
    "# bool ke int\n",
    "print(int(True))\n",
    "print(int(False))\n",
    "# int ke bool\n",
    "print(bool(0))\n",
    "print(bool(1))"
   ]
  },
  {
   "cell_type": "code",
   "execution_count": 21,
   "metadata": {},
   "outputs": [],
   "source": [
    "# untuk boolean, semua data yang \"ada isi\" itu True\n",
    "# semua data \"kosong\" itu False\n",
    "\n",
    "# contoh data Falsy:\n",
    "# 0\n",
    "# 0.0\n",
    "# \"\"\n",
    "# False\n",
    "# []\n",
    "# ()\n",
    "# {}"
   ]
  },
  {
   "cell_type": "code",
   "execution_count": 22,
   "metadata": {},
   "outputs": [],
   "source": [
    "# supaya lebih mudah bermain dengan data\n",
    "# kita pelajari konsep \"Variable\"\n",
    "# tempat simpan data yang punya nama, dan bisa kita panggil\n",
    "\n",
    "# Variable\n",
    "# - huruf kecil semua\n",
    "# - tidak dimulai dengan angka\n",
    "# - tidak ada spasi, spasi kita ganti _\n",
    "# - tidak menggunakan keyword python seperti print, type, int"
   ]
  },
  {
   "cell_type": "code",
   "execution_count": 23,
   "metadata": {},
   "outputs": [],
   "source": [
    "nilai_andi = 70\n",
    "\n",
    "# kita sudah membuat variable nilai_andi\n",
    "# variable ini menyimpan data integer dengan value 70"
   ]
  },
  {
   "cell_type": "code",
   "execution_count": 24,
   "metadata": {},
   "outputs": [],
   "source": [
    "umur = 27\n",
    "\n",
    "# kita sudah membuat variable umur\n",
    "# variable ini menyimpan data integer dengan value 27"
   ]
  },
  {
   "cell_type": "code",
   "execution_count": 25,
   "metadata": {},
   "outputs": [
    {
     "name": "stdout",
     "output_type": "stream",
     "text": [
      "70\n"
     ]
    }
   ],
   "source": [
    "print(nilai_andi)"
   ]
  },
  {
   "cell_type": "code",
   "execution_count": 26,
   "metadata": {},
   "outputs": [
    {
     "name": "stdout",
     "output_type": "stream",
     "text": [
      "80\n"
     ]
    }
   ],
   "source": [
    "# variable bisa kita panggil untuk mengakses data yang disimpan disana\n",
    "\n",
    "# isi variable bisa kita ubah\n",
    "# variable re-assignment\n",
    "nilai_andi = 80\n",
    "\n",
    "print(nilai_andi)"
   ]
  },
  {
   "cell_type": "code",
   "execution_count": 27,
   "metadata": {},
   "outputs": [
    {
     "name": "stdout",
     "output_type": "stream",
     "text": [
      "ok\n"
     ]
    }
   ],
   "source": [
    "# data dalam sebuah varible bisa bertipe data apapun\n",
    "\n",
    "msg = \"hai\"\n",
    "\n",
    "msg = 123\n",
    "\n",
    "msg = False\n",
    "\n",
    "msg = 5.5\n",
    "\n",
    "msg = \"ok\"\n",
    "\n",
    "# variable akan mengingat yang paling terbaru saja, yang terakhir\n",
    "# re-assignment terakhir variable msg adalah string \"ok\"\n",
    "print(msg)"
   ]
  },
  {
   "cell_type": "code",
   "execution_count": 28,
   "metadata": {},
   "outputs": [
    {
     "name": "stdout",
     "output_type": "stream",
     "text": [
      "<class 'str'>\n"
     ]
    }
   ],
   "source": [
    "print(type(msg))"
   ]
  },
  {
   "cell_type": "code",
   "execution_count": 29,
   "metadata": {},
   "outputs": [
    {
     "name": "stdout",
     "output_type": "stream",
     "text": [
      "1 2 3 4 5 6\n"
     ]
    }
   ],
   "source": [
    "# kenapa nama variable harus huruf kecil semua?\n",
    "# sebenarnya python bisa bisa aja tidak harus huruf kecil\n",
    "# ini lebih untuk diri kita sendiri sebagai manusia developer\n",
    "\n",
    "umur = 1\n",
    "Umur = 2\n",
    "UMUR = 3\n",
    "umuR = 4\n",
    "Umur_ = 5\n",
    "_umur = 6\n",
    "\n",
    "# bagi python, di atas ada 6 variable berbeda\n",
    "# bagi kita para manusia, di atas ada variable umur, cara tulis beda2\n",
    "\n",
    "print(umur, Umur, UMUR, umuR, Umur_, _umur)"
   ]
  },
  {
   "cell_type": "code",
   "execution_count": 30,
   "metadata": {},
   "outputs": [],
   "source": [
    "hacktiv8 = \"tempat belajar Python\""
   ]
  },
  {
   "cell_type": "code",
   "execution_count": 31,
   "metadata": {},
   "outputs": [],
   "source": [
    "# tipe data terstruktur\n",
    "\n",
    "# list\n",
    "# bisa simpan banyak data\n",
    "# misal nama2 murid di kelas, ada 6 orang --> 6 variable?\n",
    "# buat 1 saja variable, pakai list, dalam list kita isi 6 string\n",
    "kelas = [\"Andi\", \"Budi\", \"Cynthia\", \"Denisa\", \"Erika\", \"Farah\"]\n",
    "\n",
    "# jumlah barang dalam string tidak ada limit, bisa 0, bisa 100, 1000, ..\n"
   ]
  },
  {
   "cell_type": "code",
   "execution_count": 32,
   "metadata": {},
   "outputs": [
    {
     "name": "stdout",
     "output_type": "stream",
     "text": [
      "Andi\n"
     ]
    }
   ],
   "source": [
    "# cara ambil nama murid pertama di kelas?\n",
    "# menggunakan nomor urut index\n",
    "# angka dimulai dari 0\n",
    "# nomor urut index dimulai dari 0, 0 untuk murid pertama\n",
    "print(kelas[0])\n",
    "\n",
    "# cara panggil menggunakan kurung kotak, tapi bukan untuk bikin list lagi\n",
    "# karena di keyboard cuma ada [] () {} <>\n",
    "# <> khusus HTML tidak dipakai di python kecuali untuk operator\n",
    "# [] untuk bikin list di python, tapi juga untuk manggil index\n",
    "#   termasuk index untuk list, tuple, dan key untuk dictionary\n",
    "# () untuk bikin tuple di python, tapi juga dipakai untuk bikin function\n",
    "#   juga untuk memisahkan operator matematika misalnya (3+4) * 6\n",
    "# {} untuk bikin dictionary python"
   ]
  },
  {
   "cell_type": "code",
   "execution_count": 33,
   "metadata": {},
   "outputs": [
    {
     "name": "stdout",
     "output_type": "stream",
     "text": [
      "Denisa\n"
     ]
    }
   ],
   "source": [
    "# teknik mengambil 1 item dari sebuah list/tuple dinamakan indexing\n",
    "# murid ke-4 dari kelas\n",
    "print(kelas[3])"
   ]
  },
  {
   "cell_type": "code",
   "execution_count": 34,
   "metadata": {},
   "outputs": [
    {
     "name": "stdout",
     "output_type": "stream",
     "text": [
      "['Cynthia', 'Denisa', 'Erika', 'Farah']\n"
     ]
    }
   ],
   "source": [
    "# teknik mengambil lebih dari 1 item dari sebuah list/tuple dinamakan\n",
    "# slicing\n",
    "# ambil murid ke-3 sampai terakhir di kelas\n",
    "print(kelas[2:])"
   ]
  },
  {
   "cell_type": "code",
   "execution_count": 35,
   "metadata": {},
   "outputs": [
    {
     "name": "stdout",
     "output_type": "stream",
     "text": [
      "['Erika', 'Farah']\n"
     ]
    }
   ],
   "source": [
    "# ambil Erika dan Farah\n",
    "print(kelas[-2:])"
   ]
  },
  {
   "cell_type": "code",
   "execution_count": 36,
   "metadata": {},
   "outputs": [],
   "source": [
    "# CRUD create read update delete\n",
    "# bikin, baca, edit, hapus\n",
    "\n",
    "# edit\n",
    "# Erika digantikan Eren\n",
    "kelas[-2] = \"Eren\""
   ]
  },
  {
   "cell_type": "code",
   "execution_count": 37,
   "metadata": {},
   "outputs": [
    {
     "name": "stdout",
     "output_type": "stream",
     "text": [
      "['Andi', 'Budi', 'Cynthia', 'Denisa', 'Eren', 'Farah']\n"
     ]
    }
   ],
   "source": [
    "print(kelas)"
   ]
  },
  {
   "cell_type": "code",
   "execution_count": 38,
   "metadata": {},
   "outputs": [],
   "source": [
    "# edit\n",
    "# nambah item ke list\n",
    "# Giovanni ikutan kelasnya juga\n",
    "kelas.append(\"Giovanni\")"
   ]
  },
  {
   "cell_type": "code",
   "execution_count": 39,
   "metadata": {},
   "outputs": [
    {
     "name": "stdout",
     "output_type": "stream",
     "text": [
      "['Andi', 'Budi', 'Cynthia', 'Denisa', 'Eren', 'Farah', 'Giovanni']\n"
     ]
    }
   ],
   "source": [
    "print(kelas)"
   ]
  },
  {
   "cell_type": "code",
   "execution_count": 40,
   "metadata": {},
   "outputs": [],
   "source": [
    "# edit\n",
    "# mengurangi item dari list\n",
    "# Budi dikeluarkan dari kelas\n",
    "kelas.remove(\"Budi\")"
   ]
  },
  {
   "cell_type": "code",
   "execution_count": 41,
   "metadata": {},
   "outputs": [
    {
     "name": "stdout",
     "output_type": "stream",
     "text": [
      "['Andi', 'Cynthia', 'Denisa', 'Eren', 'Farah', 'Giovanni']\n"
     ]
    }
   ],
   "source": [
    "print(kelas)"
   ]
  },
  {
   "cell_type": "code",
   "execution_count": 42,
   "metadata": {},
   "outputs": [],
   "source": [
    "# hapus\n",
    "\n",
    "# hapus seluruh variable sama sekali kita bisa pakai del\n",
    "# tapi ini jarang, biasanya variable yang sudah dibuat tidak dihapus\n",
    "# karena kalau kita hapus, terus gk sengaja panggil variable, akan error\n",
    "# del kelas\n",
    "\n",
    "# yang lebih umum adalah \"mengosongkan\" variable nya\n",
    "kelas = []"
   ]
  },
  {
   "cell_type": "code",
   "execution_count": 43,
   "metadata": {},
   "outputs": [
    {
     "name": "stdout",
     "output_type": "stream",
     "text": [
      "False\n"
     ]
    }
   ],
   "source": [
    "# kalau isinya kosong, kita bisa tanya boolean itu kosong/nggak\n",
    "\n",
    "print(bool(kelas))"
   ]
  },
  {
   "cell_type": "code",
   "execution_count": 44,
   "metadata": {},
   "outputs": [],
   "source": [
    "# Conditional\n",
    "# teknik untuk menanyakan kondisi, pertanyaan ke komputer\n",
    "# yang dijawab True/ False\n",
    "# kalau True, kita bisa suruh jalanin code tertentu\n",
    "# kalau False, kita bisa suruh jalanin code tertentu\n",
    "# nama lain conditional adalah \"percabangan\""
   ]
  },
  {
   "cell_type": "code",
   "execution_count": 47,
   "metadata": {},
   "outputs": [
    {
     "name": "stdout",
     "output_type": "stream",
     "text": [
      "50\n"
     ]
    }
   ],
   "source": [
    "# tuple\n",
    "# biasanya untuk sesuatu yang tidak mau diubah\n",
    "nilai_kelas = (50,60,40,80)\n",
    "\n",
    "# cara baca sama seperti list, indexing slicing\n",
    "# nilai pertama\n",
    "print(nilai_kelas[0])"
   ]
  },
  {
   "cell_type": "code",
   "execution_count": 46,
   "metadata": {},
   "outputs": [
    {
     "name": "stdout",
     "output_type": "stream",
     "text": [
      "(50, 60, 40, 80, 90)\n"
     ]
    }
   ],
   "source": [
    "# edit \n",
    "# tidak di edit\n",
    "# kita convert ke list, edit, convert balik ke tuple\n",
    "nilai_kelas = list(nilai_kelas)\n",
    "nilai_kelas.append(90)\n",
    "nilai_kelas = tuple(nilai_kelas)\n",
    "\n",
    "print(nilai_kelas)"
   ]
  },
  {
   "cell_type": "code",
   "execution_count": 48,
   "metadata": {},
   "outputs": [],
   "source": [
    "# cara hapus\n",
    "# del nilai_kelas\n",
    "nilai_kelas = ()"
   ]
  },
  {
   "cell_type": "code",
   "execution_count": 49,
   "metadata": {},
   "outputs": [
    {
     "name": "stdout",
     "output_type": "stream",
     "text": [
      "()\n"
     ]
    }
   ],
   "source": [
    "print(nilai_kelas)"
   ]
  },
  {
   "cell_type": "code",
   "execution_count": 51,
   "metadata": {},
   "outputs": [
    {
     "name": "stdout",
     "output_type": "stream",
     "text": [
      "['Cynthia', 'Denisa', 'Eren', 'Farah']\n"
     ]
    }
   ],
   "source": [
    "kelas = ['Andi', 'Budi', 'Cynthia', 'Denisa', 'Eren', 'Farah', 'Giovanni']\n",
    "print(kelas[2:6])"
   ]
  },
  {
   "cell_type": "code",
   "execution_count": 52,
   "metadata": {},
   "outputs": [],
   "source": [
    "# dictionary\n",
    "# gimana kalau nama murid dan nilai ujian mereka kita jadikan satu variable\n",
    "# karena key bentuknya string, nama murid juga string\n",
    "# kita bisa pakai nama murid sebagai key\n",
    "\n",
    "kelas = {\n",
    "    \"Andi\":80,\n",
    "    \"Budi\":50,\n",
    "    \"Cynthia\":60,\n",
    "    \"Denisa\":78,\n",
    "    \"Eren\":92,\n",
    "    \"Farah\":43,\n",
    "    \"Giovanni\":100\n",
    "}\n",
    "\n",
    "budi = {\n",
    "    \"nama\": \"Budiyanto Widjaya\",\n",
    "    \"umur\": 37,\n",
    "    \"hobi\": [\"tidur\", \"masak\", \"badminton\"]\n",
    "}"
   ]
  },
  {
   "cell_type": "code",
   "execution_count": 53,
   "metadata": {},
   "outputs": [
    {
     "name": "stdout",
     "output_type": "stream",
     "text": [
      "43\n"
     ]
    }
   ],
   "source": [
    "# nilai nya Farah di kelas berapa?\n",
    "print(kelas[\"Farah\"])"
   ]
  },
  {
   "cell_type": "code",
   "execution_count": 54,
   "metadata": {},
   "outputs": [
    {
     "name": "stdout",
     "output_type": "stream",
     "text": [
      "['tidur', 'masak', 'badminton']\n"
     ]
    }
   ],
   "source": [
    "# hobi nya Budi apa?\n",
    "print(budi[\"hobi\"])"
   ]
  },
  {
   "cell_type": "code",
   "execution_count": 55,
   "metadata": {},
   "outputs": [
    {
     "name": "stdout",
     "output_type": "stream",
     "text": [
      "{'Andi': 80, 'Budi': 50, 'Cynthia': 60, 'Denisa': 78, 'Eren': 92, 'Farah': 43, 'Giovanni': 100}\n"
     ]
    }
   ],
   "source": [
    "# nambah murid di kelas, ada Helen\n",
    "print(kelas)"
   ]
  },
  {
   "cell_type": "code",
   "execution_count": 56,
   "metadata": {},
   "outputs": [],
   "source": [
    "kelas[\"Helen\"] = 79"
   ]
  },
  {
   "cell_type": "code",
   "execution_count": 57,
   "metadata": {},
   "outputs": [
    {
     "name": "stdout",
     "output_type": "stream",
     "text": [
      "{'Andi': 80, 'Budi': 50, 'Cynthia': 60, 'Denisa': 78, 'Eren': 92, 'Farah': 43, 'Giovanni': 100, 'Helen': 79}\n"
     ]
    }
   ],
   "source": [
    "print(kelas)"
   ]
  },
  {
   "cell_type": "code",
   "execution_count": 58,
   "metadata": {},
   "outputs": [],
   "source": [
    "# cara hapus biasanya kita set None atau kosongin data\n",
    "# Giovanni mau di hapus nilainya\n",
    "kelas[\"Giovanni\"] = None"
   ]
  },
  {
   "cell_type": "code",
   "execution_count": 59,
   "metadata": {},
   "outputs": [
    {
     "name": "stdout",
     "output_type": "stream",
     "text": [
      "{'Andi': 80, 'Budi': 50, 'Cynthia': 60, 'Denisa': 78, 'Eren': 92, 'Farah': 43, 'Giovanni': None, 'Helen': 79}\n"
     ]
    }
   ],
   "source": [
    "print(kelas)"
   ]
  },
  {
   "cell_type": "code",
   "execution_count": 60,
   "metadata": {},
   "outputs": [],
   "source": [
    "del kelas[\"Giovanni\"]"
   ]
  },
  {
   "cell_type": "code",
   "execution_count": 61,
   "metadata": {},
   "outputs": [
    {
     "name": "stdout",
     "output_type": "stream",
     "text": [
      "{'Andi': 80, 'Budi': 50, 'Cynthia': 60, 'Denisa': 78, 'Eren': 92, 'Farah': 43, 'Helen': 79}\n"
     ]
    }
   ],
   "source": [
    "print(kelas)"
   ]
  },
  {
   "cell_type": "code",
   "execution_count": 62,
   "metadata": {},
   "outputs": [],
   "source": [
    "# hapus\n",
    "# del kelas\n",
    "kelas = {}"
   ]
  },
  {
   "cell_type": "code",
   "execution_count": 66,
   "metadata": {},
   "outputs": [],
   "source": [
    "# operator matematika\n",
    "# dengan numerik (int, float) (bisa di + - * / % **)\n",
    "# dengan string (bisa di +)\n",
    "# dengan list (bisa di +)"
   ]
  },
  {
   "cell_type": "code",
   "execution_count": 67,
   "metadata": {},
   "outputs": [
    {
     "name": "stdout",
     "output_type": "stream",
     "text": [
      "5.0\n"
     ]
    }
   ],
   "source": [
    "a = 10\n",
    "b = 5\n",
    "\n",
    "print(a + b - 30 * 4 / 12)"
   ]
  },
  {
   "cell_type": "code",
   "execution_count": 68,
   "metadata": {},
   "outputs": [
    {
     "name": "stdout",
     "output_type": "stream",
     "text": [
      "2\n"
     ]
    }
   ],
   "source": [
    "# modulo, mod, %, adalah cara bagi yang menyimpan sisa pembagian saja\n",
    "# 5 bagi 3, adalah 1 sisa 2, jadi 5 % 3 = 2\n",
    "print(5 % 3)"
   ]
  },
  {
   "cell_type": "code",
   "execution_count": 69,
   "metadata": {},
   "outputs": [
    {
     "name": "stdout",
     "output_type": "stream",
     "text": [
      "0\n"
     ]
    }
   ],
   "source": [
    "# 8756 ganjil atau genap?\n",
    "# kalau dibagi 2 tidak ada sisanya, dia genap. kalau ada sisa, dia ganjil\n",
    "print(8756 % 2)"
   ]
  },
  {
   "cell_type": "code",
   "execution_count": 70,
   "metadata": {},
   "outputs": [
    {
     "name": "stdout",
     "output_type": "stream",
     "text": [
      "hai\n",
      "hai Kevin\n"
     ]
    }
   ],
   "source": [
    "message = \"hai\"\n",
    "print(message)\n",
    "print(message + \" Kevin\")"
   ]
  },
  {
   "cell_type": "code",
   "execution_count": 71,
   "metadata": {},
   "outputs": [
    {
     "name": "stdout",
     "output_type": "stream",
     "text": [
      "['apel', 'jeruk']\n"
     ]
    }
   ],
   "source": [
    "buah_buahan = [\"apel\"]\n",
    "\n",
    "print(buah_buahan + [\"jeruk\"])"
   ]
  },
  {
   "cell_type": "code",
   "execution_count": 75,
   "metadata": {},
   "outputs": [
    {
     "name": "stdout",
     "output_type": "stream",
     "text": [
      "saya tidak akan terlambat lagi\n",
      "saya tidak akan terlambat lagi\n",
      "saya tidak akan terlambat lagi\n",
      "saya tidak akan terlambat lagi\n",
      "saya tidak akan terlambat lagi\n",
      "saya tidak akan terlambat lagi\n",
      "saya tidak akan terlambat lagi\n",
      "saya tidak akan terlambat lagi\n",
      "saya tidak akan terlambat lagi\n",
      "saya tidak akan terlambat lagi\n",
      "\n"
     ]
    }
   ],
   "source": [
    "# string dan list bisa dikali angka\n",
    "message = \"saya tidak akan terlambat lagi\"\n",
    "print((message + \"\\n\") * 10)"
   ]
  },
  {
   "cell_type": "code",
   "execution_count": 76,
   "metadata": {},
   "outputs": [
    {
     "name": "stdout",
     "output_type": "stream",
     "text": [
      "['apel', 'apel', 'apel']\n"
     ]
    }
   ],
   "source": [
    "print(buah_buahan * 3)"
   ]
  },
  {
   "cell_type": "code",
   "execution_count": 64,
   "metadata": {},
   "outputs": [],
   "source": [
    "# operator pembanding\n",
    "# > < >= <= == !=\n",
    "# angka numerik (int, float)\n",
    "# string"
   ]
  },
  {
   "cell_type": "code",
   "execution_count": 79,
   "metadata": {},
   "outputs": [
    {
     "name": "stdout",
     "output_type": "stream",
     "text": [
      "10 5\n",
      "True\n",
      "False\n"
     ]
    }
   ],
   "source": [
    "a = 10\n",
    "b = 5\n",
    "\n",
    "print(a, b)\n",
    "\n",
    "print( a > b)\n",
    "print( a < b)"
   ]
  },
  {
   "cell_type": "code",
   "execution_count": 81,
   "metadata": {},
   "outputs": [
    {
     "name": "stdout",
     "output_type": "stream",
     "text": [
      "17 7\n",
      "True\n",
      "False\n"
     ]
    }
   ],
   "source": [
    "a = 17\n",
    "b = 7\n",
    "\n",
    "print(a, b)\n",
    "print( a >= b)\n",
    "print( a <= b)"
   ]
  },
  {
   "cell_type": "code",
   "execution_count": 83,
   "metadata": {},
   "outputs": [
    {
     "name": "stdout",
     "output_type": "stream",
     "text": [
      "5 7\n",
      "False\n",
      "True\n"
     ]
    }
   ],
   "source": [
    "a = 5\n",
    "b = 7\n",
    "\n",
    "print(a, b)\n",
    "print( a == b)\n",
    "print( a != b)"
   ]
  },
  {
   "cell_type": "code",
   "execution_count": 84,
   "metadata": {},
   "outputs": [
    {
     "name": "stdout",
     "output_type": "stream",
     "text": [
      "True\n"
     ]
    }
   ],
   "source": [
    "print(\"hai\" == \"hai\")"
   ]
  },
  {
   "cell_type": "code",
   "execution_count": 90,
   "metadata": {},
   "outputs": [
    {
     "name": "stdout",
     "output_type": "stream",
     "text": [
      "True\n"
     ]
    }
   ],
   "source": [
    "print(budi[\"nama\"] == \"Budiyanto Widjaya\")"
   ]
  },
  {
   "cell_type": "code",
   "execution_count": 65,
   "metadata": {},
   "outputs": [],
   "source": [
    "# operator in\n",
    "# untuk mencari apakah ada hal1 di dalam hal2\n",
    "# apakah ada \"Python\" di dalam \"selamat datang ke kelas Python\"\n",
    "# apakah ada \"Helen\" di dalam kelas"
   ]
  },
  {
   "cell_type": "code",
   "execution_count": 92,
   "metadata": {},
   "outputs": [
    {
     "name": "stdout",
     "output_type": "stream",
     "text": [
      "['Andi', 'Cynthia', 'Denisa', 'Eren', 'Farah', 'Giovanni']\n"
     ]
    }
   ],
   "source": [
    "kelas = ['Andi', 'Cynthia', 'Denisa', 'Eren', 'Farah', 'Giovanni']\n",
    "print(kelas)"
   ]
  },
  {
   "cell_type": "code",
   "execution_count": 93,
   "metadata": {},
   "outputs": [
    {
     "name": "stdout",
     "output_type": "stream",
     "text": [
      "False\n"
     ]
    }
   ],
   "source": [
    "# apakah ada \"Helen\" di kelas?\n",
    "print(\"Helen\" in kelas)"
   ]
  },
  {
   "cell_type": "code",
   "execution_count": 94,
   "metadata": {},
   "outputs": [
    {
     "name": "stdout",
     "output_type": "stream",
     "text": [
      "True\n"
     ]
    }
   ],
   "source": [
    "print(\"Cynthia\" in kelas)"
   ]
  },
  {
   "cell_type": "code",
   "execution_count": 95,
   "metadata": {},
   "outputs": [
    {
     "name": "stdout",
     "output_type": "stream",
     "text": [
      "saya tidak akan terlambat lagi\n"
     ]
    }
   ],
   "source": [
    "print(message)"
   ]
  },
  {
   "cell_type": "code",
   "execution_count": 96,
   "metadata": {},
   "outputs": [
    {
     "name": "stdout",
     "output_type": "stream",
     "text": [
      "True\n"
     ]
    }
   ],
   "source": [
    "# apakah ada \"terlambat\" di message?\n",
    "print(\"terlambat\" in message)"
   ]
  },
  {
   "cell_type": "code",
   "execution_count": 97,
   "metadata": {},
   "outputs": [
    {
     "name": "stdout",
     "output_type": "stream",
     "text": [
      "False\n"
     ]
    }
   ],
   "source": [
    "# apakah ada \"telat\" di message?\n",
    "print(\"telat\" in message)"
   ]
  },
  {
   "cell_type": "code",
   "execution_count": 98,
   "metadata": {},
   "outputs": [
    {
     "name": "stdout",
     "output_type": "stream",
     "text": [
      "saya tidak akan terlambat lagi\n"
     ]
    }
   ],
   "source": [
    "# string ada built-in function\n",
    "# fungsi untuk dengan cepat mengubah sebuah string\n",
    "print(message)"
   ]
  },
  {
   "cell_type": "code",
   "execution_count": 99,
   "metadata": {},
   "outputs": [
    {
     "name": "stdout",
     "output_type": "stream",
     "text": [
      "SAYA TIDAK AKAN TERLAMBAT LAGI\n"
     ]
    }
   ],
   "source": [
    "# ubah jadi huruf besar semua\n",
    "print(message.upper())"
   ]
  },
  {
   "cell_type": "code",
   "execution_count": 100,
   "metadata": {},
   "outputs": [
    {
     "name": "stdout",
     "output_type": "stream",
     "text": [
      "Saya Tidak Akan Terlambat Lagi\n"
     ]
    }
   ],
   "source": [
    "# ubah jadi Title Case\n",
    "print(message.title())"
   ]
  },
  {
   "cell_type": "code",
   "execution_count": 101,
   "metadata": {},
   "outputs": [
    {
     "name": "stdout",
     "output_type": "stream",
     "text": [
      "hacktiv8 python data science class\n"
     ]
    }
   ],
   "source": [
    "# ubah jadi huruf kecil\n",
    "message = \"Hacktiv8 PYTHON data science Class\"\n",
    "print(message.lower())"
   ]
  },
  {
   "cell_type": "code",
   "execution_count": 102,
   "metadata": {},
   "outputs": [],
   "source": [
    "# Conditional\n",
    "# percabangan\n",
    "nama = \"Andi\"\n",
    "umur = 12\n",
    "\n",
    "# kalau umurnya 13 tahun keatas, harus vaksin\n",
    "if (umur >= 13):\n",
    "    print(\"umurnya 13 keatas, harus vaksin\")"
   ]
  },
  {
   "cell_type": "code",
   "execution_count": 103,
   "metadata": {},
   "outputs": [
    {
     "name": "stdout",
     "output_type": "stream",
     "text": [
      "umurnya 13 keatas, harus vaksin\n"
     ]
    }
   ],
   "source": [
    "umur = 17\n",
    "\n",
    "# kalau umurnya 13 tahun keatas, harus vaksin\n",
    "if (umur >= 13):\n",
    "    print(\"umurnya 13 keatas, harus vaksin\")"
   ]
  },
  {
   "cell_type": "code",
   "execution_count": 104,
   "metadata": {},
   "outputs": [
    {
     "name": "stdout",
     "output_type": "stream",
     "text": [
      "umurnya 13 keatas, harus vaksin\n"
     ]
    }
   ],
   "source": [
    "# kalau umurnya 13 tahun keatas, harus vaksin\n",
    "# kalau nggak, harus isolasi mandiri di rumah\n",
    "\n",
    "umur = 17\n",
    "\n",
    "if (umur >= 13):\n",
    "    print(\"umurnya 13 keatas, harus vaksin\")\n",
    "else:\n",
    "    print(\"harus isolasi mandiri di rumah\")"
   ]
  },
  {
   "cell_type": "code",
   "execution_count": 105,
   "metadata": {},
   "outputs": [
    {
     "name": "stdout",
     "output_type": "stream",
     "text": [
      "harus isolasi mandiri di rumah\n"
     ]
    }
   ],
   "source": [
    "umur = 12\n",
    "\n",
    "if (umur >= 13):\n",
    "    print(\"umurnya 13 keatas, harus vaksin\")\n",
    "else:\n",
    "    print(\"harus isolasi mandiri di rumah\")"
   ]
  },
  {
   "cell_type": "code",
   "execution_count": 107,
   "metadata": {},
   "outputs": [
    {
     "name": "stdout",
     "output_type": "stream",
     "text": [
      "umurnya 65 tahun keatas, vaksin didahulukan\n"
     ]
    }
   ],
   "source": [
    "# if dan else ada teman lagi, elif\n",
    "# elif dipakai kalau ada pertanyaan nyambung setema\n",
    "\n",
    "# kalau umurnya 65 tahun keatas, vaksin didahulukan\n",
    "# kalau umurnya 13 tahun keatas, harus antri vaksin\n",
    "# kalau nggak, harus isolasi mandiri di rumah\n",
    "\n",
    "umur = 70\n",
    "if (umur >= 65):\n",
    "    print(\"umurnya 65 tahun keatas, vaksin didahulukan\")\n",
    "elif (umur >= 13):\n",
    "    print(\"umurnya 13 keatas, harus antri vaksin\")\n",
    "else:\n",
    "    print(\"harus isolasi mandiri di rumah\")"
   ]
  },
  {
   "cell_type": "code",
   "execution_count": 108,
   "metadata": {},
   "outputs": [],
   "source": [
    "# kondisi bisa lebih dari satu\n",
    "# kondisi 1 dan kondisi 2 harus terpenuhi (and)\n",
    "# kondisi 1 atau kondisi 2 terpenuhi salah satu sudah cukup (or)\n",
    "\n",
    "# nested if\n",
    "# setelah pertanyaan if pertama, \n",
    "#   ada pertanyaan if lagi di dalamnya, lanjutan, tapi cek harl berbeda"
   ]
  },
  {
   "cell_type": "code",
   "execution_count": 111,
   "metadata": {},
   "outputs": [
    {
     "name": "stdout",
     "output_type": "stream",
     "text": [
      "selesai\n"
     ]
    }
   ],
   "source": [
    "# kita mau cek apakah seseorang boleh naik roller coaster\n",
    "\n",
    "# kalau dia member Disneyland, boleh, tapi, umur harus cukup\n",
    "# minimal umur untuk naik roller coaster itu 12 tahun\n",
    "# dan minimal tinggi 120cm\n",
    "# kalau dia bukan member, boleh tapi bayar 50000\n",
    "\n",
    "membership = True\n",
    "uang = 10000\n",
    "umur = 15\n",
    "tinggi = 110\n",
    "\n",
    "if (membership):\n",
    "    # cek tinggi dan umur\n",
    "    if (tinggi >= 120 and umur >=12):\n",
    "        print(\"welcome member, boleh naik\")\n",
    "    else:\n",
    "        print(\"welcome member, kurang tinggi/ belum cukup umur\")\n",
    "else:\n",
    "    # cek uang dulu\n",
    "    if (uang >= 50000):\n",
    "        # cek tinggi dan umur\n",
    "        if (tinggi >= 120 and umur >=12):\n",
    "            print(\"lunas, boleh naik\")\n",
    "        else:\n",
    "            print(\"kurang tinggi/ belum cukup umur\")\n",
    "    else:\n",
    "        print(\"kurang cash, tidak bisa naik\")\n",
    "\n",
    "print(\"selesai\")"
   ]
  },
  {
   "cell_type": "code",
   "execution_count": 112,
   "metadata": {},
   "outputs": [],
   "source": [
    "# Looping/ Perulangan/ Iteration\n",
    "# while: melakukan blok code yang sama ber kali kali \n",
    "#        sampai kondisi False\n",
    "# for: melakukan blok code yang sama ber kali kali \n",
    "#      untuk setiap item dalam sebuah koleksi\n",
    "#      koleksi termasuk: list, tuple, dictionary, string, range "
   ]
  },
  {
   "cell_type": "code",
   "execution_count": 4,
   "metadata": {},
   "outputs": [
    {
     "name": "stdout",
     "output_type": "stream",
     "text": [
      "sudah umur 13+, boleh naik\n"
     ]
    }
   ],
   "source": [
    "# kalau anak ini umur di bawah 13 tahun, tidak boleh naik roller coaster\n",
    "\n",
    "umur = 13\n",
    "if (umur < 13):\n",
    "    print(\"tidak boleh naik, masih umur\", umur)\n",
    "else:\n",
    "    print(\"sudah umur 13+, boleh naik\")"
   ]
  },
  {
   "cell_type": "code",
   "execution_count": 7,
   "metadata": {},
   "outputs": [
    {
     "name": "stdout",
     "output_type": "stream",
     "text": [
      "tidak boleh naik, masih umur 10\n",
      "tidak boleh naik, masih umur 11\n",
      "tidak boleh naik, masih umur 12\n",
      "sudah umur 13+, boleh naik\n"
     ]
    }
   ],
   "source": [
    "# while loop\n",
    "# selama anak ini umur di bawah 13 tahun, tidak boleh naik roller coaster\n",
    "\n",
    "umur = 10\n",
    "while (umur < 13):\n",
    "    print(\"tidak boleh naik, masih umur\", umur)\n",
    "    umur = umur + 1\n",
    "else:\n",
    "    print(\"sudah umur 13+, boleh naik\")"
   ]
  },
  {
   "cell_type": "code",
   "execution_count": 9,
   "metadata": {},
   "outputs": [
    {
     "name": "stdout",
     "output_type": "stream",
     "text": [
      "1\n",
      "2\n",
      "3\n",
      "4\n",
      "5\n",
      "6\n",
      "7\n",
      "8\n",
      "9\n",
      "10\n"
     ]
    }
   ],
   "source": [
    "# hitung 1-10\n",
    "\n",
    "angka = 1\n",
    "while (angka <= 10):\n",
    "    print(angka)\n",
    "    angka = angka + 1"
   ]
  },
  {
   "cell_type": "code",
   "execution_count": 20,
   "metadata": {},
   "outputs": [
    {
     "name": "stdout",
     "output_type": "stream",
     "text": [
      "3\n"
     ]
    }
   ],
   "source": [
    "# diberikan sebuah ember berisi bola, bentuk ember jadi list, bola jadi string\n",
    "# bola merah, bola biru, bola hijau\n",
    "# selama masih ada bola di ember, hitung total bola merah\n",
    "\n",
    "ember = [\"merah\", \"merah\", \"hijau\", \"kuning\", \"biru\", \"merah\"]\n",
    "total_bola_merah = 0\n",
    "\n",
    "index = 0\n",
    "total_bola = len(ember)\n",
    "\n",
    "while (index < total_bola):\n",
    "    bola = ember[index]\n",
    "    \n",
    "    if (bola == 'merah'):\n",
    "        total_bola_merah = total_bola_merah + 1\n",
    "\n",
    "    index = index + 1\n",
    "\n",
    "\n",
    "print(total_bola_merah)"
   ]
  },
  {
   "cell_type": "code",
   "execution_count": 21,
   "metadata": {},
   "outputs": [
    {
     "name": "stdout",
     "output_type": "stream",
     "text": [
      "3\n"
     ]
    }
   ],
   "source": [
    "# for loop\n",
    "\n",
    "ember = [\"merah\", \"merah\", \"hijau\", \"kuning\", \"biru\", \"merah\"]\n",
    "total_bola_merah = 0\n",
    "\n",
    "index = 0\n",
    "total_bola = len(ember)\n",
    "\n",
    "for bola in ember:\n",
    "    if (bola == 'merah'):\n",
    "        total_bola_merah = total_bola_merah + 1\n",
    "\n",
    "\n",
    "print(total_bola_merah)"
   ]
  },
  {
   "cell_type": "code",
   "execution_count": 22,
   "metadata": {},
   "outputs": [
    {
     "name": "stdout",
     "output_type": "stream",
     "text": [
      "h\n",
      "a\n",
      "l\n",
      "o\n"
     ]
    }
   ],
   "source": [
    "for huruf in \"halo\":\n",
    "    print(huruf)"
   ]
  },
  {
   "cell_type": "code",
   "execution_count": 23,
   "metadata": {},
   "outputs": [
    {
     "name": "stdout",
     "output_type": "stream",
     "text": [
      "nama\n",
      "harga\n",
      "merk\n"
     ]
    }
   ],
   "source": [
    "buah = {\"nama\":\"apel\", \"harga\":5700, \"merk\":\"Fiji\"}\n",
    "for key in buah:\n",
    "    print(key)"
   ]
  },
  {
   "cell_type": "code",
   "execution_count": 24,
   "metadata": {},
   "outputs": [
    {
     "name": "stdout",
     "output_type": "stream",
     "text": [
      "nama apel\n",
      "harga 5700\n",
      "merk Fiji\n"
     ]
    }
   ],
   "source": [
    "for key in buah:\n",
    "    print(key, buah[key])"
   ]
  },
  {
   "cell_type": "code",
   "execution_count": 25,
   "metadata": {},
   "outputs": [
    {
     "name": "stdout",
     "output_type": "stream",
     "text": [
      "0\n",
      "1\n",
      "2\n",
      "3\n",
      "4\n",
      "5\n",
      "6\n",
      "7\n",
      "8\n",
      "9\n"
     ]
    }
   ],
   "source": [
    "for angka in range(10):\n",
    "    print(angka)"
   ]
  },
  {
   "cell_type": "code",
   "execution_count": 26,
   "metadata": {},
   "outputs": [
    {
     "name": "stdout",
     "output_type": "stream",
     "text": [
      "1\n",
      "2\n",
      "3\n",
      "4\n",
      "5\n",
      "6\n",
      "7\n",
      "8\n",
      "9\n",
      "10\n"
     ]
    }
   ],
   "source": [
    "for angka in range(1,11):\n",
    "    print(angka)"
   ]
  },
  {
   "cell_type": "code",
   "execution_count": 27,
   "metadata": {},
   "outputs": [
    {
     "name": "stdout",
     "output_type": "stream",
     "text": [
      "5\n",
      "10\n",
      "15\n",
      "20\n",
      "25\n"
     ]
    }
   ],
   "source": [
    "for angka in range(5,26,5):\n",
    "    print(angka)"
   ]
  },
  {
   "cell_type": "code",
   "execution_count": 28,
   "metadata": {},
   "outputs": [
    {
     "name": "stdout",
     "output_type": "stream",
     "text": [
      "100\n",
      "90\n",
      "80\n",
      "70\n",
      "60\n",
      "50\n",
      "40\n",
      "30\n",
      "20\n",
      "10\n",
      "0\n"
     ]
    }
   ],
   "source": [
    "for angka in range(100,-1,-10):\n",
    "    print(angka)"
   ]
  },
  {
   "cell_type": "code",
   "execution_count": null,
   "metadata": {},
   "outputs": [],
   "source": [
    "# dicoba buat loop nya, apakah sesuai ekspektasi hasilnya?"
   ]
  }
 ],
 "metadata": {
  "kernelspec": {
   "display_name": "Python 3.9.7 ('base')",
   "language": "python",
   "name": "python3"
  },
  "language_info": {
   "codemirror_mode": {
    "name": "ipython",
    "version": 3
   },
   "file_extension": ".py",
   "mimetype": "text/x-python",
   "name": "python",
   "nbconvert_exporter": "python",
   "pygments_lexer": "ipython3",
   "version": "3.9.7"
  },
  "orig_nbformat": 4,
  "vscode": {
   "interpreter": {
    "hash": "4f523f7c76dd18e7ed336217f32f6f704c23c323644912475b9d3570cf04b060"
   }
  }
 },
 "nbformat": 4,
 "nbformat_minor": 2
}
