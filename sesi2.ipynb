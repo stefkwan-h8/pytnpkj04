{
  "nbformat": 4,
  "nbformat_minor": 0,
  "metadata": {
    "colab": {
      "name": "pytn-2-sesi2.ipynb",
      "provenance": []
    },
    "kernelspec": {
      "name": "python3",
      "display_name": "Python 3"
    },
    "language_info": {
      "name": "python"
    }
  },
  "cells": [
    {
      "cell_type": "code",
      "execution_count": 3,
      "metadata": {
        "id": "rvzKPZ10EQur"
      },
      "outputs": [],
      "source": [
        "# Function, Module, dan Package\n",
        "\n",
        "# Function adalah cara untuk mengumpulkan code jadi satu\n",
        "#   kemudian diberi nama, dan code nya jadi punya nama\n",
        "#   code nya bisa dijalankan ulang hanya dengan pakai namanya\n",
        "#   function dijalankan nama kerennya function di invoke"
      ]
    },
    {
      "cell_type": "code",
      "source": [
        "# contoh, code yang kita gunakan untuk menghitung jumlah bola merah di ember\n",
        "# bisa kita masukkan ke dalam sebuah function\n",
        "\n",
        "def hitungBola():\n",
        "  ember = [\"merah\", \"merah\", \"hijau\", \"kuning\", \"biru\", \"merah\"]\n",
        "  total_bola_merah = 0\n",
        "\n",
        "  index = 0\n",
        "  total_bola = len(ember)\n",
        "\n",
        "  for bola in ember:\n",
        "      if (bola == 'merah'):\n",
        "          total_bola_merah = total_bola_merah + 1\n",
        "\n",
        "\n",
        "  print(total_bola_merah)"
      ],
      "metadata": {
        "id": "RAomJ4vDETln"
      },
      "execution_count": 4,
      "outputs": []
    },
    {
      "cell_type": "code",
      "source": [
        "hitungBola"
      ],
      "metadata": {
        "colab": {
          "base_uri": "https://localhost:8080/"
        },
        "id": "VJ_2ncdxLKMJ",
        "outputId": "88cb61b7-95bf-44c3-926f-c5726946ac63"
      },
      "execution_count": 5,
      "outputs": [
        {
          "output_type": "execute_result",
          "data": {
            "text/plain": [
              "<function __main__.hitungBola>"
            ]
          },
          "metadata": {},
          "execution_count": 5
        }
      ]
    },
    {
      "cell_type": "code",
      "source": [
        "hitungBola()"
      ],
      "metadata": {
        "colab": {
          "base_uri": "https://localhost:8080/"
        },
        "id": "yFr_whZ6LOCe",
        "outputId": "07e9f14b-0377-44de-da32-4b0e4a4b7978"
      },
      "execution_count": 6,
      "outputs": [
        {
          "output_type": "stream",
          "name": "stdout",
          "text": [
            "3\n"
          ]
        }
      ]
    },
    {
      "cell_type": "code",
      "source": [
        "# function hitungBola gak guna ya, cuma nge print \"3\" aja terus terusan\n",
        "# kita bisa custom sedikit supaya function jadi berguna\n",
        "# misal, kita bisa suruh dia hitung ember yang isinya beda beda\n",
        "# tanpa harus edit ulang function nya\n",
        "\n",
        "# variable spesial milik function: parameter, argumen\n",
        "# lokasi ada di dalam () milik function, di sebelah nama function\n",
        "\n",
        "def hitungBola(ember):\n",
        "  total_bola_merah = 0\n",
        "\n",
        "  index = 0\n",
        "  total_bola = len(ember)\n",
        "\n",
        "  for bola in ember:\n",
        "      if (bola == 'merah'):\n",
        "          total_bola_merah = total_bola_merah + 1\n",
        "\n",
        "\n",
        "  print(total_bola_merah)"
      ],
      "metadata": {
        "id": "iyxVo6rSLTQa"
      },
      "execution_count": 7,
      "outputs": []
    },
    {
      "cell_type": "code",
      "source": [
        "hitungBola([\"merah\", \"merah\", \"hijau\", \"kuning\", \"biru\", \"merah\"])"
      ],
      "metadata": {
        "colab": {
          "base_uri": "https://localhost:8080/"
        },
        "id": "UUz6hKXDL9WL",
        "outputId": "ece55e1c-3916-4211-f91e-73ad0c4c1ba8"
      },
      "execution_count": 9,
      "outputs": [
        {
          "output_type": "stream",
          "name": "stdout",
          "text": [
            "3\n"
          ]
        }
      ]
    },
    {
      "cell_type": "code",
      "source": [
        "hitungBola([])"
      ],
      "metadata": {
        "colab": {
          "base_uri": "https://localhost:8080/"
        },
        "id": "riX9ZSRrMBHb",
        "outputId": "73920634-e093-48be-8eb0-aa7aa8b173e7"
      },
      "execution_count": 10,
      "outputs": [
        {
          "output_type": "stream",
          "name": "stdout",
          "text": [
            "0\n"
          ]
        }
      ]
    },
    {
      "cell_type": "code",
      "source": [
        "hitungBola([\"hijau\", \"hijau\", \"hijau\"])"
      ],
      "metadata": {
        "colab": {
          "base_uri": "https://localhost:8080/"
        },
        "id": "mWPb3fmYMNIj",
        "outputId": "4cc58880-ce44-4d4f-86fb-4e37042feed6"
      },
      "execution_count": 11,
      "outputs": [
        {
          "output_type": "stream",
          "name": "stdout",
          "text": [
            "0\n"
          ]
        }
      ]
    },
    {
      "cell_type": "code",
      "source": [
        "hitungBola([\"merah\", \"merah\", \"merah\",\"merah\", \"merah\", \"merah\"])"
      ],
      "metadata": {
        "colab": {
          "base_uri": "https://localhost:8080/"
        },
        "id": "gNQoKPmKMQWv",
        "outputId": "d336c37a-aade-4645-d156-c04b90c006aa"
      },
      "execution_count": 12,
      "outputs": [
        {
          "output_type": "stream",
          "name": "stdout",
          "text": [
            "6\n"
          ]
        }
      ]
    },
    {
      "cell_type": "code",
      "source": [
        "# function bisa kita custom variable ember nya\n",
        "# variable ember baru kita isi saat function di invoke"
      ],
      "metadata": {
        "id": "_Ls9h0f_MTbr"
      },
      "execution_count": 13,
      "outputs": []
    },
    {
      "cell_type": "code",
      "source": [
        "# coba bikin function untuk menghitung panjang sebuah string\n",
        "# punya 1 argumen\n",
        "# hasil akhirnya print panjang string yang diberikan ke argumen\n",
        "\n",
        "def hitung(msg):\n",
        "  print(len(msg))"
      ],
      "metadata": {
        "id": "NCZKdcIXMeqW"
      },
      "execution_count": 14,
      "outputs": []
    },
    {
      "cell_type": "code",
      "source": [
        "hitung(\"skfaskjdfhsa\")"
      ],
      "metadata": {
        "colab": {
          "base_uri": "https://localhost:8080/"
        },
        "id": "xx67FV3EN8J5",
        "outputId": "29baf3fd-97c1-41f7-fa3d-3b880e80d5c6"
      },
      "execution_count": 15,
      "outputs": [
        {
          "output_type": "stream",
          "name": "stdout",
          "text": [
            "12\n"
          ]
        }
      ]
    },
    {
      "cell_type": "code",
      "source": [
        "# rule penamaan function\n",
        "# camelCase --> spasi tidak ada, huruf setelah spasi jadi huruf besar\n",
        "# biar beda aja sama variable\n",
        "\n",
        "def hitungPanjangString(msg):\n",
        "  print(len(msg))"
      ],
      "metadata": {
        "id": "VU919xwON9fb"
      },
      "execution_count": 16,
      "outputs": []
    },
    {
      "cell_type": "code",
      "source": [
        "# argumen lebih dari satu\n",
        "\n",
        "# pengecekan roller coaster: membership, tinggi, umur, uang\n",
        "# kita bisa jadikan function juga\n",
        "\n",
        "def cekRollerCoaster(membership, uang, umur, tinggi):\n",
        "  print(\"customer dengan membership\", membership, \", uang\",uang,\", umur\",umur,\", tinggi\",tinggi)\n",
        "  if (membership):\n",
        "      # cek tinggi dan umur\n",
        "      if (tinggi >= 120 and umur >=12):\n",
        "          print(\"welcome member, boleh naik\")\n",
        "      else:\n",
        "          print(\"welcome member, kurang tinggi/ belum cukup umur\")\n",
        "  else:\n",
        "      # cek uang dulu\n",
        "      if (uang >= 50000):\n",
        "          # cek tinggi dan umur\n",
        "          if (tinggi >= 120 and umur >=12):\n",
        "              print(\"lunas, boleh naik\")\n",
        "          else:\n",
        "              print(\"kurang tinggi/ belum cukup umur\")\n",
        "      else:\n",
        "          print(\"kurang cash, tidak bisa naik\")\n",
        "\n",
        "  print(\"selesai\")"
      ],
      "metadata": {
        "id": "oRCJ2GjNOPjq"
      },
      "execution_count": 25,
      "outputs": []
    },
    {
      "cell_type": "code",
      "source": [
        "cekRollerCoaster(False, 70000, 18, 150)"
      ],
      "metadata": {
        "colab": {
          "base_uri": "https://localhost:8080/"
        },
        "id": "llNFxN5lOq6r",
        "outputId": "5262ff74-6263-4ae8-db72-ae7d7feaf7c5"
      },
      "execution_count": 26,
      "outputs": [
        {
          "output_type": "stream",
          "name": "stdout",
          "text": [
            "customer dengan membership False , uang 70000 , umur 18 , tinggi 150\n",
            "lunas, boleh naik\n",
            "selesai\n"
          ]
        }
      ]
    },
    {
      "cell_type": "code",
      "source": [
        "cekRollerCoaster(False, 70000, 11, 150)"
      ],
      "metadata": {
        "colab": {
          "base_uri": "https://localhost:8080/"
        },
        "id": "217sszSrOxve",
        "outputId": "50043506-4d79-49f8-81c4-434f8ca0f9ba"
      },
      "execution_count": 27,
      "outputs": [
        {
          "output_type": "stream",
          "name": "stdout",
          "text": [
            "customer dengan membership False , uang 70000 , umur 11 , tinggi 150\n",
            "kurang tinggi/ belum cukup umur\n",
            "selesai\n"
          ]
        }
      ]
    },
    {
      "cell_type": "code",
      "source": [
        "# saat ada banyak argumen, urutannya tetap harus fix sama\n",
        "# rentan kita salah isi karena lupa urutannya\n",
        "cekRollerCoaster(False, 11, 150, 70000)"
      ],
      "metadata": {
        "colab": {
          "base_uri": "https://localhost:8080/"
        },
        "id": "bLBSla3uO0kv",
        "outputId": "13e86411-b6e0-47c5-fec3-d9e3e0b02b15"
      },
      "execution_count": 28,
      "outputs": [
        {
          "output_type": "stream",
          "name": "stdout",
          "text": [
            "customer dengan membership False , uang 11 , umur 150 , tinggi 70000\n",
            "kurang cash, tidak bisa naik\n",
            "selesai\n"
          ]
        }
      ]
    },
    {
      "cell_type": "code",
      "source": [
        "# cara isi untuk memastikan tidak salah isi\n",
        "# keyword argumen\n",
        "cekRollerCoaster(membership=False, umur=11, tinggi=150, uang=70000)"
      ],
      "metadata": {
        "colab": {
          "base_uri": "https://localhost:8080/"
        },
        "id": "c98j2cdXPC1I",
        "outputId": "5b1bd7f3-a942-427f-dc6e-01ee2271d87a"
      },
      "execution_count": 29,
      "outputs": [
        {
          "output_type": "stream",
          "name": "stdout",
          "text": [
            "customer dengan membership False , uang 70000 , umur 11 , tinggi 150\n",
            "kurang tinggi/ belum cukup umur\n",
            "selesai\n"
          ]
        }
      ]
    },
    {
      "cell_type": "code",
      "source": [
        "# boleh campur2 ada yg pake keyword argumen, ada yang nggak\n",
        "# yang penting nama argumen sesuai\n",
        "cekRollerCoaster(False, umur=11, tinggi=150, uang=70000)"
      ],
      "metadata": {
        "colab": {
          "base_uri": "https://localhost:8080/"
        },
        "id": "7e4lK-oOPRIR",
        "outputId": "bd718ab7-5476-467a-f76b-b7ac558df16a"
      },
      "execution_count": 30,
      "outputs": [
        {
          "output_type": "stream",
          "name": "stdout",
          "text": [
            "customer dengan membership False , uang 70000 , umur 11 , tinggi 150\n",
            "kurang tinggi/ belum cukup umur\n",
            "selesai\n"
          ]
        }
      ]
    },
    {
      "cell_type": "code",
      "source": [
        "# bagaimana kalau ada argumen yang optional\n",
        "# boleh isi, boleh nggak\n",
        "# misalkan, kalau membership gak diisi, kita otomatis set ke False\n",
        "\n",
        "# default argumen\n",
        "\n",
        "def cekRollerCoaster(uang, umur, tinggi, membership=False):\n",
        "  print(\"customer dengan membership\", membership, \", uang\",uang,\", umur\",umur,\", tinggi\",tinggi)\n",
        "  if (membership):\n",
        "      # cek tinggi dan umur\n",
        "      if (tinggi >= 120 and umur >=12):\n",
        "          print(\"welcome member, boleh naik\")\n",
        "      else:\n",
        "          print(\"welcome member, kurang tinggi/ belum cukup umur\")\n",
        "  else:\n",
        "      # cek uang dulu\n",
        "      if (uang >= 50000):\n",
        "          # cek tinggi dan umur\n",
        "          if (tinggi >= 120 and umur >=12):\n",
        "              print(\"lunas, boleh naik\")\n",
        "          else:\n",
        "              print(\"kurang tinggi/ belum cukup umur\")\n",
        "      else:\n",
        "          print(\"kurang cash, tidak bisa naik\")\n",
        "\n",
        "  print(\"selesai\")"
      ],
      "metadata": {
        "id": "pbNwMF_PPY9e"
      },
      "execution_count": 32,
      "outputs": []
    },
    {
      "cell_type": "code",
      "source": [
        "cekRollerCoaster(uang=100000, umur=15, tinggi=160)"
      ],
      "metadata": {
        "colab": {
          "base_uri": "https://localhost:8080/"
        },
        "id": "_x5LNrYkQGBO",
        "outputId": "ec68f99d-ec84-42da-b174-20b6e209d1f1"
      },
      "execution_count": 33,
      "outputs": [
        {
          "output_type": "stream",
          "name": "stdout",
          "text": [
            "customer dengan membership False , uang 100000 , umur 15 , tinggi 160\n",
            "lunas, boleh naik\n",
            "selesai\n"
          ]
        }
      ]
    },
    {
      "cell_type": "code",
      "source": [
        "cekRollerCoaster(uang=100000, umur=15, tinggi=160, membership=True)"
      ],
      "metadata": {
        "colab": {
          "base_uri": "https://localhost:8080/"
        },
        "id": "DkgNqoiyQUWp",
        "outputId": "6f71b9bd-9e69-4577-af95-13c29585a144"
      },
      "execution_count": 34,
      "outputs": [
        {
          "output_type": "stream",
          "name": "stdout",
          "text": [
            "customer dengan membership True , uang 100000 , umur 15 , tinggi 160\n",
            "welcome member, boleh naik\n",
            "selesai\n"
          ]
        }
      ]
    },
    {
      "cell_type": "code",
      "source": [
        "# function\n",
        "# cara buat function\n",
        "# cara invoke function (jalanin code functionnya)\n",
        "# membuat argumen/parameter/variable spesial milik function\n",
        "#   - argumen biasa, harus diisi\n",
        "#   - argumen default, tidak harus diisi\n",
        "# cara isi argumen saat invoke function\n",
        "#   - isi biasa, urut sesuai urutan saat argumen dibuat\n",
        "#   - keyword argumen\n",
        "# return"
      ],
      "metadata": {
        "id": "SMG1_Bt4QXuL"
      },
      "execution_count": 36,
      "outputs": []
    },
    {
      "cell_type": "code",
      "source": [
        "# mau buat function yang bisa mengembalikan sebuah value\n",
        "# misalkan hasil hitung bole merah nya mau kita simpan ke variable\n",
        "\n",
        "merah = hitungBola([\"merah\"])"
      ],
      "metadata": {
        "colab": {
          "base_uri": "https://localhost:8080/"
        },
        "id": "Pgn_v6wBQt7i",
        "outputId": "3a007bad-7a9a-4f5d-c921-fe61b9b752d1"
      },
      "execution_count": 38,
      "outputs": [
        {
          "output_type": "stream",
          "name": "stdout",
          "text": [
            "1\n"
          ]
        }
      ]
    },
    {
      "cell_type": "code",
      "source": [
        "print(merah)"
      ],
      "metadata": {
        "colab": {
          "base_uri": "https://localhost:8080/"
        },
        "id": "LRNfNbSXSkI_",
        "outputId": "f03cc9e1-c627-483b-a6a3-6efeafd5ab38"
      },
      "execution_count": 39,
      "outputs": [
        {
          "output_type": "stream",
          "name": "stdout",
          "text": [
            "None\n"
          ]
        }
      ]
    },
    {
      "cell_type": "code",
      "source": [
        "# hasil print tidak bisa di save ke variable"
      ],
      "metadata": {
        "id": "MrbxwvpySm9j"
      },
      "execution_count": 40,
      "outputs": []
    },
    {
      "cell_type": "code",
      "source": [
        "# kita akan gunakan keyword return supaya hasil hitung function\n",
        "# bisa kita save ke variable di luar functionnya\n",
        "# di saat function di invoke, bisa balikin sebuah value\n",
        "\n",
        "def hitungBola(ember):\n",
        "  total_bola_merah = 0\n",
        "\n",
        "  index = 0\n",
        "  total_bola = len(ember)\n",
        "\n",
        "  for bola in ember:\n",
        "      if (bola == 'merah'):\n",
        "          total_bola_merah = total_bola_merah + 1\n",
        "\n",
        "  # ubah print jadi return\n",
        "  return total_bola_merah"
      ],
      "metadata": {
        "id": "B2obxy7oSthR"
      },
      "execution_count": 41,
      "outputs": []
    },
    {
      "cell_type": "code",
      "source": [
        "hitungBola([\"merah\"])\n",
        "\n",
        "# hasil nya ini bukan dari print, tapi lebih seperti kita ketik raw data"
      ],
      "metadata": {
        "colab": {
          "base_uri": "https://localhost:8080/"
        },
        "id": "UEbP6X_QS-DD",
        "outputId": "a2d0ab31-cd5e-4474-f651-1282c9d7b5d0"
      },
      "execution_count": 43,
      "outputs": [
        {
          "output_type": "execute_result",
          "data": {
            "text/plain": [
              "1"
            ]
          },
          "metadata": {},
          "execution_count": 43
        }
      ]
    },
    {
      "cell_type": "code",
      "source": [
        "1"
      ],
      "metadata": {
        "colab": {
          "base_uri": "https://localhost:8080/"
        },
        "id": "v3kFpFptTAxL",
        "outputId": "40ac43eb-0d04-43d0-bfeb-7ecc66cf551c"
      },
      "execution_count": 44,
      "outputs": [
        {
          "output_type": "execute_result",
          "data": {
            "text/plain": [
              "1"
            ]
          },
          "metadata": {},
          "execution_count": 44
        }
      ]
    },
    {
      "cell_type": "code",
      "source": [
        "1\n",
        "2\n",
        "3\n"
      ],
      "metadata": {
        "colab": {
          "base_uri": "https://localhost:8080/"
        },
        "id": "bVT53GwnTF5Q",
        "outputId": "ddf94da7-8aad-400f-889d-5113f079fbe7"
      },
      "execution_count": 45,
      "outputs": [
        {
          "output_type": "execute_result",
          "data": {
            "text/plain": [
              "3"
            ]
          },
          "metadata": {},
          "execution_count": 45
        }
      ]
    },
    {
      "cell_type": "code",
      "source": [
        "hitungBola([\"merah\"])\n",
        "hitungBola([\"merah\",\"merah\"])\n",
        "hitungBola([\"merah\",\"merah\",\"merah\"])"
      ],
      "metadata": {
        "colab": {
          "base_uri": "https://localhost:8080/"
        },
        "id": "gIbZE8mDTHBV",
        "outputId": "e4dba5c7-d694-48fa-9706-a56c295aced3"
      },
      "execution_count": 46,
      "outputs": [
        {
          "output_type": "execute_result",
          "data": {
            "text/plain": [
              "3"
            ]
          },
          "metadata": {},
          "execution_count": 46
        }
      ]
    },
    {
      "cell_type": "code",
      "source": [
        "merah = hitungBola([\"merah\"])"
      ],
      "metadata": {
        "id": "tzBDPvn8TKZ0"
      },
      "execution_count": 47,
      "outputs": []
    },
    {
      "cell_type": "code",
      "source": [
        "print(merah)"
      ],
      "metadata": {
        "colab": {
          "base_uri": "https://localhost:8080/"
        },
        "id": "g3n0WuXFTNXQ",
        "outputId": "ebf8a24d-061c-4d39-96b4-66eb781067d6"
      },
      "execution_count": 48,
      "outputs": [
        {
          "output_type": "stream",
          "name": "stdout",
          "text": [
            "1\n"
          ]
        }
      ]
    },
    {
      "cell_type": "code",
      "source": [
        "# return tidak print\n",
        "# return berubah jadi sebuah data"
      ],
      "metadata": {
        "id": "q7niELv0TPSO"
      },
      "execution_count": 49,
      "outputs": []
    },
    {
      "cell_type": "code",
      "source": [
        "merah = hitungBola([\"merah\",\"merah\",\"merah\"])"
      ],
      "metadata": {
        "id": "w0nfL04gTTlK"
      },
      "execution_count": 50,
      "outputs": []
    },
    {
      "cell_type": "code",
      "source": [
        "print(merah)"
      ],
      "metadata": {
        "colab": {
          "base_uri": "https://localhost:8080/"
        },
        "id": "pqmbHA-CTXfZ",
        "outputId": "1ed0f2c3-822b-4c93-a64f-ce6edb4e02fb"
      },
      "execution_count": 51,
      "outputs": [
        {
          "output_type": "stream",
          "name": "stdout",
          "text": [
            "3\n"
          ]
        }
      ]
    },
    {
      "cell_type": "code",
      "source": [
        "# kita bisa modif function hitung bola\n",
        "# untuk hitung bola dengan warna pilihan kita\n",
        "# lalu hasil hitung bisa kita save ke variable beda2\n",
        "\n",
        "def hitungBola(ember, warna=\"merah\"):\n",
        "  total_bola_warna = 0\n",
        "\n",
        "  index = 0\n",
        "  total_bola = len(ember)\n",
        "\n",
        "  for bola in ember:\n",
        "      if (bola == warna):\n",
        "          total_bola_warna = total_bola_warna + 1\n",
        "\n",
        "  # ubah print jadi return\n",
        "  return total_bola_warna"
      ],
      "metadata": {
        "id": "KKu7Bm48TYoe"
      },
      "execution_count": 52,
      "outputs": []
    },
    {
      "cell_type": "code",
      "source": [
        "ember = [\"merah\", \"merah\", \"hijau\", \"kuning\", \"biru\", \"merah\", \"kuning\"]\n",
        "\n",
        "merah = hitungBola(ember)\n",
        "hijau = hitungBola(ember, \"hijau\")\n",
        "kuning = hitungBola(ember, \"kuning\")\n",
        "biru = hitungBola(ember, \"biru\")"
      ],
      "metadata": {
        "id": "16W4I63_TsS2"
      },
      "execution_count": 56,
      "outputs": []
    },
    {
      "cell_type": "code",
      "source": [
        "print(merah, hijau, kuning, biru)"
      ],
      "metadata": {
        "colab": {
          "base_uri": "https://localhost:8080/"
        },
        "id": "nDmVj96gTxqI",
        "outputId": "aa08fae6-fd2e-4b35-a6ea-fac5f2ed8ec6"
      },
      "execution_count": 57,
      "outputs": [
        {
          "output_type": "stream",
          "name": "stdout",
          "text": [
            "3 1 2 1\n"
          ]
        }
      ]
    },
    {
      "cell_type": "code",
      "source": [
        "# contoh penggunaan loop, list, dictionary, function berbarengan\n",
        "\n",
        "ember = [\"merah\", \"merah\", \"hijau\", \"kuning\", \"biru\", \"merah\", \"kuning\"]\n",
        "hasil_hitung = {\"merah\":0, \"hijau\":0, \"kuning\":0, \"biru\":0}\n",
        "\n",
        "for warna in hasil_hitung:\n",
        "  # print(warna)\n",
        "  hasil_hitung[warna] = hitungBola(ember, warna)\n",
        "\n",
        "print(hasil_hitung)"
      ],
      "metadata": {
        "colab": {
          "base_uri": "https://localhost:8080/"
        },
        "id": "M5CYn7ZMT-3T",
        "outputId": "05f87f1b-8a8b-4c69-c671-89b723c899ed"
      },
      "execution_count": 59,
      "outputs": [
        {
          "output_type": "stream",
          "name": "stdout",
          "text": [
            "{'merah': 3, 'hijau': 1, 'kuning': 2, 'biru': 1}\n"
          ]
        }
      ]
    },
    {
      "cell_type": "code",
      "source": [
        "# module\n",
        "# file terpisah .py\n",
        "# bisa diisi code python, termasuk: variable, function, class, code lepas, loop, if, dan lainnya\n",
        "# module bisa kita import untuk digunakan di file ipynb\n",
        "\n",
        "# https://pypi.org\n",
        "\n",
        "# package\n",
        "# beberapa file module dijadikan di satu folder\n",
        "\n",
        "# latihan\n",
        "# buat file module, ada variable, ada function\n",
        "# import file module, jalankan function di module, print variable nya"
      ],
      "metadata": {
        "id": "_LI0OJdqUWDO"
      },
      "execution_count": 60,
      "outputs": []
    },
    {
      "cell_type": "code",
      "source": [
        "# import module\n",
        "import andi"
      ],
      "metadata": {
        "id": "YXz-_2CbVQ9w"
      },
      "execution_count": 61,
      "outputs": []
    },
    {
      "cell_type": "code",
      "source": [
        "print(andi.nama)"
      ],
      "metadata": {
        "colab": {
          "base_uri": "https://localhost:8080/"
        },
        "id": "tXCLoxrxWdNe",
        "outputId": "75c7e602-8409-48c3-86e1-240ee3290111"
      },
      "execution_count": 62,
      "outputs": [
        {
          "output_type": "stream",
          "name": "stdout",
          "text": [
            "Andhika Tedja\n"
          ]
        }
      ]
    },
    {
      "cell_type": "code",
      "source": [
        "andi.kenalan()"
      ],
      "metadata": {
        "colab": {
          "base_uri": "https://localhost:8080/"
        },
        "id": "ICcdLCPXWgNV",
        "outputId": "b979744f-e57f-425a-d4d0-cc8420fc707f"
      },
      "execution_count": 63,
      "outputs": [
        {
          "output_type": "stream",
          "name": "stdout",
          "text": [
            "salken, saya Andi\n"
          ]
        }
      ]
    },
    {
      "cell_type": "code",
      "source": [
        "andi.temenan(\"Cindy\")"
      ],
      "metadata": {
        "colab": {
          "base_uri": "https://localhost:8080/"
        },
        "id": "73P1iAnWWiai",
        "outputId": "c98f99d9-5fa9-42e4-fc22-85ddaa299e05"
      },
      "execution_count": 64,
      "outputs": [
        {
          "output_type": "stream",
          "name": "stdout",
          "text": [
            "['Budi', 'Cindy']\n"
          ]
        }
      ]
    },
    {
      "cell_type": "code",
      "source": [
        "print(andi.teman)"
      ],
      "metadata": {
        "colab": {
          "base_uri": "https://localhost:8080/"
        },
        "id": "BrHnH0PyWllT",
        "outputId": "a7f726d5-98fe-4b7d-e4ce-168259eae0e0"
      },
      "execution_count": 65,
      "outputs": [
        {
          "output_type": "stream",
          "name": "stdout",
          "text": [
            "['Budi', 'Cindy']\n"
          ]
        }
      ]
    },
    {
      "cell_type": "code",
      "source": [
        "# import module, pakai nama beda\n",
        "import andi as an"
      ],
      "metadata": {
        "id": "215hbxhNWn62"
      },
      "execution_count": 66,
      "outputs": []
    },
    {
      "cell_type": "code",
      "source": [
        "an.kenalan()"
      ],
      "metadata": {
        "colab": {
          "base_uri": "https://localhost:8080/"
        },
        "id": "VGTIT0tyYmCi",
        "outputId": "cd317d03-866b-49c7-d3df-a398a652bee1"
      },
      "execution_count": 67,
      "outputs": [
        {
          "output_type": "stream",
          "name": "stdout",
          "text": [
            "salken, saya Andi\n"
          ]
        }
      ]
    },
    {
      "cell_type": "code",
      "source": [
        "# ke depannya, ini package2 yang akan kita gunakan\n",
        "import numpy as np\n",
        "import pandas as pd\n",
        "\n",
        "%matplotlib inline\n",
        "import matplotlib as mpl\n",
        "import matplotlib.pyplot as plt\n",
        "\n",
        "import seaborn as sns"
      ],
      "metadata": {
        "id": "pLrKEpgBYnjl"
      },
      "execution_count": 68,
      "outputs": []
    },
    {
      "cell_type": "code",
      "source": [
        "# package\n",
        "# beberapa module di dalam sebuah folder\n",
        "# cara import package, kita import module nya tetap"
      ],
      "metadata": {
        "id": "YRoMA00zZuP1"
      },
      "execution_count": 69,
      "outputs": []
    },
    {
      "cell_type": "code",
      "source": [
        "import kelas"
      ],
      "metadata": {
        "id": "HTnBZTjCZyqs"
      },
      "execution_count": 70,
      "outputs": []
    },
    {
      "cell_type": "code",
      "source": [
        "import kelas.budi"
      ],
      "metadata": {
        "id": "zkA3IHByZ0mj"
      },
      "execution_count": 72,
      "outputs": []
    },
    {
      "cell_type": "code",
      "source": [
        "kelas.budi.kenalan()"
      ],
      "metadata": {
        "colab": {
          "base_uri": "https://localhost:8080/"
        },
        "id": "5B_CGeIGZ1ui",
        "outputId": "6b3553cf-2446-44bc-be1e-8e9ac23f1629"
      },
      "execution_count": 73,
      "outputs": [
        {
          "output_type": "stream",
          "name": "stdout",
          "text": [
            "halooo, saya Budi\n"
          ]
        }
      ]
    },
    {
      "cell_type": "code",
      "source": [
        "import kelas.cindy"
      ],
      "metadata": {
        "id": "psK4UCxrZ798"
      },
      "execution_count": 74,
      "outputs": []
    },
    {
      "cell_type": "code",
      "source": [
        "kelas.cindy.kenalan()"
      ],
      "metadata": {
        "colab": {
          "base_uri": "https://localhost:8080/"
        },
        "id": "QcCsAyriZ-Vg",
        "outputId": "4775f3e3-cbfd-4515-ce0d-aede5fa48719"
      },
      "execution_count": 75,
      "outputs": [
        {
          "output_type": "stream",
          "name": "stdout",
          "text": [
            "salam, saya Cindy Sutrisno\n"
          ]
        }
      ]
    },
    {
      "cell_type": "code",
      "source": [
        "import kelas.budi as budi"
      ],
      "metadata": {
        "id": "uxOCKeLaZ_a1"
      },
      "execution_count": 76,
      "outputs": []
    },
    {
      "cell_type": "code",
      "source": [
        "import kelas.cindy as cin"
      ],
      "metadata": {
        "id": "j5aZC_WZaDEP"
      },
      "execution_count": 77,
      "outputs": []
    },
    {
      "cell_type": "code",
      "source": [
        "budi.kenalan()\n",
        "cin.kenalan()"
      ],
      "metadata": {
        "colab": {
          "base_uri": "https://localhost:8080/"
        },
        "id": "X7uyZ4lBaErQ",
        "outputId": "925191a3-5b1a-48d6-dbc5-9688f4399bfb"
      },
      "execution_count": 78,
      "outputs": [
        {
          "output_type": "stream",
          "name": "stdout",
          "text": [
            "halooo, saya Budi\n",
            "salam, saya Cindy Sutrisno\n"
          ]
        }
      ]
    },
    {
      "cell_type": "code",
      "source": [
        ""
      ],
      "metadata": {
        "id": "wrrZWrVpaGkC"
      },
      "execution_count": null,
      "outputs": []
    }
  ]
}